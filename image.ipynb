{
 "cells": [
  {
   "cell_type": "code",
   "execution_count": 83,
   "metadata": {},
   "outputs": [
    {
     "name": "stderr",
     "output_type": "stream",
     "text": [
      "\u001b[32m\u001b[1m   Resolving\u001b[22m\u001b[39m package versions...\n"
     ]
    },
    {
     "name": "stderr",
     "output_type": "stream",
     "text": [
      "\u001b[32m\u001b[1m  No Changes\u001b[22m\u001b[39m to `~/.julia/environments/v1.8/Project.toml`\n",
      "\u001b[32m\u001b[1m  No Changes\u001b[22m\u001b[39m to `~/.julia/environments/v1.8/Manifest.toml`\n"
     ]
    },
    {
     "name": "stderr",
     "output_type": "stream",
     "text": [
      "\u001b[32m\u001b[1m   Resolving\u001b[22m\u001b[39m package versions...\n"
     ]
    },
    {
     "name": "stderr",
     "output_type": "stream",
     "text": [
      "\u001b[32m\u001b[1m  No Changes\u001b[22m\u001b[39m to `~/.julia/environments/v1.8/Project.toml`\n",
      "\u001b[32m\u001b[1m  No Changes\u001b[22m\u001b[39m to `~/.julia/environments/v1.8/Manifest.toml`\n"
     ]
    }
   ],
   "source": [
    "using Pkg\n",
    "Pkg.add(\"Images\")\n",
    "Pkg.add(\"GLM\")\n",
    "using Random\n",
    "using Images\n",
    "using DataFrames\n",
    "using GLM\n",
    "\n"
   ]
  },
  {
   "cell_type": "code",
   "execution_count": 5,
   "metadata": {},
   "outputs": [
    {
     "data": {
      "text/plain": [
       "(250, 250)"
      ]
     },
     "metadata": {},
     "output_type": "display_data"
    }
   ],
   "source": [
    "img = load(\"George_W_Bush/George_W_Bush_0001.jpg\")\n",
    "\n",
    "channel_img = channelview(img)\n",
    "\n",
    "perm_img = permutedims(channelview(img),(2,3,1))\n",
    "\n",
    "channel_r = perm_img[:,:,1] \n",
    "\n",
    "m::Int16,n::Int16 = size(channel_r)\n",
    "\n",
    "\n",
    "\n"
   ]
  },
  {
   "cell_type": "code",
   "execution_count": 17,
   "metadata": {},
   "outputs": [
    {
     "data": {
      "text/plain": [
       "125×250 Array{N0f8,2} with eltype N0f8:\n",
       " 0.098  0.086  0.078  0.082  0.086  …  0.455  0.533  0.588  0.639  0.678\n",
       " 0.098  0.086  0.078  0.082  0.086     0.431  0.514  0.58   0.62   0.663\n",
       " 0.098  0.086  0.078  0.082  0.086     0.376  0.471  0.549  0.604  0.647\n",
       " 0.102  0.086  0.078  0.082  0.086     0.329  0.431  0.522  0.596  0.643\n",
       " 0.102  0.09   0.082  0.082  0.086     0.29   0.396  0.494  0.569  0.624\n",
       " 0.102  0.09   0.082  0.082  0.086  …  0.263  0.365  0.467  0.545  0.604\n",
       " 0.102  0.09   0.082  0.082  0.086     0.227  0.325  0.424  0.518  0.576\n",
       " 0.102  0.09   0.082  0.082  0.086     0.2    0.286  0.38   0.486  0.549\n",
       " 0.094  0.09   0.082  0.078  0.082     0.184  0.263  0.349  0.443  0.529\n",
       " 0.094  0.09   0.082  0.078  0.082     0.161  0.227  0.306  0.412  0.498\n",
       " ⋮                                  ⋱  ⋮                           \n",
       " 0.122  0.129  0.133  0.137  0.141     0.294  0.369  0.447  0.51   0.541\n",
       " 0.122  0.125  0.125  0.129  0.133     0.29   0.365  0.447  0.502  0.533\n",
       " 0.118  0.122  0.118  0.122  0.125     0.29   0.373  0.455  0.502  0.529\n",
       " 0.114  0.118  0.114  0.114  0.118     0.294  0.376  0.459  0.502  0.529\n",
       " 0.098  0.102  0.106  0.11   0.114  …  0.294  0.376  0.455  0.498  0.518\n",
       " 0.094  0.098  0.102  0.106  0.11      0.278  0.361  0.435  0.486  0.514\n",
       " 0.094  0.094  0.098  0.102  0.102     0.278  0.353  0.431  0.486  0.514\n",
       " 0.094  0.098  0.098  0.098  0.098     0.267  0.345  0.427  0.478  0.51\n",
       " 0.098  0.098  0.098  0.098  0.098     0.243  0.322  0.4    0.467  0.502"
      ]
     },
     "metadata": {},
     "output_type": "display_data"
    }
   ],
   "source": [
    "channel_r[1:trunc(Int,m/2),:]\n",
    "cat(current,new; dims=3)\n"
   ]
  },
  {
   "cell_type": "code",
   "execution_count": 13,
   "metadata": {},
   "outputs": [
    {
     "data": {
      "text/plain": [
       "125"
      ]
     },
     "metadata": {},
     "output_type": "display_data"
    }
   ],
   "source": [
    "trunc(Int,m/2)"
   ]
  },
  {
   "cell_type": "code",
   "execution_count": 90,
   "metadata": {},
   "outputs": [
    {
     "data": {
      "text/plain": [
       "10×10 Matrix{Float64}:\n",
       " 0.854901  0.0418775   0.61651   0.200576  …  0.113294  0.291949   0.228107\n",
       " 0.633562  0.238934    0.672043  0.784262     0.174665  0.156653   0.722025\n",
       " 0.97175   0.00526802  0.969981  0.335009     0.939662  0.0106156  0.905916\n",
       " 0.168485  0.680782    0.106623  0.453038     0.471695  0.431948   0.563453\n",
       " 0.58072   0.965317    0.134598  0.294886     0.926469  0.856173   0.0169111\n",
       " 0.383451  0.315695    0.842301  0.359022  …  0.217163  0.385673   0.925889\n",
       " 0.765164  0.348324    0.300604  0.67237      0.712925  0.251639   0.648496\n",
       " 0.662051  0.484842    0.786782  0.890095     0.592475  0.248136   0.745589\n",
       " 0.800815  0.44935     0.822592  0.567299     0.536878  0.349501   0.403507\n",
       " 0.929634  0.099279    0.767836  0.93474      0.973854  0.412651   0.728093"
      ]
     },
     "metadata": {},
     "output_type": "display_data"
    }
   ],
   "source": [
    "\n",
    "# mat1 = [1:2 3:4]\n",
    "# mat2 = [5:6 7:8]\n",
    "#reshape(matrix,100,10)\n",
    "mat1  = rand(10,10)\n",
    "mat2  = rand(10,10)\n"
   ]
  },
  {
   "cell_type": "code",
   "execution_count": 96,
   "metadata": {},
   "outputs": [
    {
     "data": {
      "text/plain": [
       "lm (generic function with 2 methods)"
      ]
     },
     "metadata": {},
     "output_type": "display_data"
    }
   ],
   "source": [
    "\n",
    "vec2 = vec(mat2)\n",
    "vec1 = vec(mat1)\n",
    "hcat(vec1,vec2)\n",
    "\n",
    "#reshape(vcat(vec1,vec2))\n",
    "mat = permutedims(hcat(vec1,vec2))\n",
    "DataFrame(mat,:auto)\n"
   ]
  },
  {
   "cell_type": "code",
   "execution_count": null,
   "metadata": {},
   "outputs": [],
   "source": []
  }
 ],
 "metadata": {
  "kernelspec": {
   "display_name": "Julia 1.8.1",
   "language": "julia",
   "name": "julia-1.8"
  },
  "language_info": {
   "file_extension": ".jl",
   "mimetype": "application/julia",
   "name": "julia",
   "version": "1.8.1"
  },
  "orig_nbformat": 4
 },
 "nbformat": 4,
 "nbformat_minor": 2
}
